{
 "cells": [
  {
   "cell_type": "code",
   "execution_count": 1,
   "metadata": {},
   "outputs": [
    {
     "name": "stdout",
     "output_type": "stream",
     "text": [
      "\u001b[0m\u001b[01;34mfacets\u001b[0m  README.md  Untitled.ipynb  \u001b[01;34mwebcam\u001b[0m\n"
     ]
    }
   ],
   "source": [
    "ls"
   ]
  },
  {
   "cell_type": "code",
   "execution_count": 5,
   "metadata": {},
   "outputs": [
    {
     "name": "stdout",
     "output_type": "stream",
     "text": [
      "facets - ya Tue Jul 18 19:58:26 PDT 2017\n",
      "README.md - ya Tue Jul 18 19:58:26 PDT 2017\n",
      "Untitled.ipynb - ya Tue Jul 18 19:58:26 PDT 2017\n",
      "webcam - ya Tue Jul 18 19:58:26 PDT 2017\n"
     ]
    }
   ],
   "source": [
    "for f in `ls`\n",
    "do\n",
    "    echo $f \"- ya\" `date`\n",
    "done"
   ]
  },
  {
   "cell_type": "code",
   "execution_count": null,
   "metadata": {
    "collapsed": true
   },
   "outputs": [],
   "source": []
  }
 ],
 "metadata": {
  "kernelspec": {
   "display_name": "Bash",
   "language": "bash",
   "name": "bash"
  },
  "language_info": {
   "codemirror_mode": "shell",
   "file_extension": ".sh",
   "mimetype": "text/x-sh",
   "name": "bash"
  }
 },
 "nbformat": 4,
 "nbformat_minor": 2
}
